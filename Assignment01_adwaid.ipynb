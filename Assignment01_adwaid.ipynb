{
  "nbformat": 4,
  "nbformat_minor": 0,
  "metadata": {
    "colab": {
      "provenance": [],
      "authorship_tag": "ABX9TyNZxS2qRJLgd6pFnYMOBvsh",
      "include_colab_link": true
    },
    "kernelspec": {
      "name": "python3",
      "display_name": "Python 3"
    },
    "language_info": {
      "name": "python"
    }
  },
  "cells": [
    {
      "cell_type": "markdown",
      "metadata": {
        "id": "view-in-github",
        "colab_type": "text"
      },
      "source": [
        "<a href=\"https://colab.research.google.com/github/asadwaid12-cmd/ict_assignment/blob/main/Assignment01_adwaid.ipynb\" target=\"_parent\"><img src=\"https://colab.research.google.com/assets/colab-badge.svg\" alt=\"Open In Colab\"/></a>"
      ]
    },
    {
      "cell_type": "markdown",
      "source": [
        "Question 1"
      ],
      "metadata": {
        "id": "U52Z5i1nbo_h"
      }
    },
    {
      "cell_type": "code",
      "source": [
        "a = int(input(\"price of item 1:\"))\n",
        "b = int(input(\"quantity of item 1:\"))\n",
        "c = int(input(\"price of item 2: \"))\n",
        "d = int(input(\"quatity of item 2: \"))\n",
        "x = a*b+c*d\n",
        "print(\"Total bill: \",x)"
      ],
      "metadata": {
        "colab": {
          "base_uri": "https://localhost:8080/"
        },
        "id": "ddY3SlqsYxiV",
        "outputId": "8bbe69f1-d004-40e7-969a-96ea3a02a575"
      },
      "execution_count": null,
      "outputs": [
        {
          "output_type": "stream",
          "name": "stdout",
          "text": [
            "price of item 1:45\n",
            "quantity of item 1:3\n",
            "price of item 2: 30\n",
            "quatity of item 2: 2\n",
            "Total bill:  195\n"
          ]
        }
      ]
    },
    {
      "cell_type": "markdown",
      "source": [
        "Question 2"
      ],
      "metadata": {
        "id": "RQz2-dricPAZ"
      }
    },
    {
      "cell_type": "code",
      "source": [
        "c = int(input(\"enter temp in celcius: \"))\n",
        "f = (c*9/5)+32\n",
        "print(\"Temp in fahrenheit: \",f)"
      ],
      "metadata": {
        "colab": {
          "base_uri": "https://localhost:8080/"
        },
        "id": "p87jTwjZbbjY",
        "outputId": "9c0750c1-19be-42fb-fa9e-de2afae0f997"
      },
      "execution_count": null,
      "outputs": [
        {
          "output_type": "stream",
          "name": "stdout",
          "text": [
            "enter temp in celcius: 30\n",
            "Temp in fahrenheit:  86.0\n"
          ]
        }
      ]
    },
    {
      "cell_type": "markdown",
      "source": [
        "Question 3"
      ],
      "metadata": {
        "id": "xA7F6SE9dFf3"
      }
    },
    {
      "cell_type": "code",
      "source": [
        "a = float(input(\"enter basic salary:\"))\n",
        "n = a+(0.20*a)+(0.10*a)\n",
        "print(\"net salary:\",n)\n",
        "\n"
      ],
      "metadata": {
        "colab": {
          "base_uri": "https://localhost:8080/"
        },
        "id": "3ohRYJDlcFT4",
        "outputId": "55f66353-eaaa-49d4-af4e-f7c863ca42ce"
      },
      "execution_count": null,
      "outputs": [
        {
          "output_type": "stream",
          "name": "stdout",
          "text": [
            "enter basic salary:20000\n",
            "net salary: 26000.0\n"
          ]
        }
      ]
    },
    {
      "cell_type": "markdown",
      "source": [
        "Question 4"
      ],
      "metadata": {
        "id": "aHLwaVDSeBc_"
      }
    },
    {
      "cell_type": "code",
      "source": [
        "p = float(input(\"principal amount: \"))\n",
        "r = float(input(\"rate of interest: \"))\n",
        "t = float(input(\"time: \"))\n",
        "si = (p*r*t)/100\n",
        "print(\"simple intrest: \",si)"
      ],
      "metadata": {
        "colab": {
          "base_uri": "https://localhost:8080/"
        },
        "id": "8zW6ZZ4ydHiO",
        "outputId": "107ce87e-b31f-496b-9b32-2dd7f6b4d6a7"
      },
      "execution_count": null,
      "outputs": [
        {
          "output_type": "stream",
          "name": "stdout",
          "text": [
            "principal amount: 10000\n",
            "rate of interest: 5\n",
            "time: 2\n",
            "simple intrest:  1000.0\n"
          ]
        }
      ]
    },
    {
      "cell_type": "markdown",
      "source": [
        "Question 5"
      ],
      "metadata": {
        "id": "Cxrh-Jw6hmPi"
      }
    },
    {
      "cell_type": "code",
      "source": [
        "a = float(input(\"enter total minutes:\"))\n",
        "h = a/60\n",
        "m = a%60\n",
        "print(h,m)"
      ],
      "metadata": {
        "colab": {
          "base_uri": "https://localhost:8080/"
        },
        "id": "Yk0ytYSTg46y",
        "outputId": "7f43cf2c-6167-41e8-d247-228eff94f2f1"
      },
      "execution_count": null,
      "outputs": [
        {
          "output_type": "stream",
          "name": "stdout",
          "text": [
            "enter total minutes:130\n",
            "2.1666666666666665 10.0\n"
          ]
        }
      ]
    },
    {
      "cell_type": "markdown",
      "source": [
        "Question 6"
      ],
      "metadata": {
        "id": "X4NCbKDviw5R"
      }
    },
    {
      "cell_type": "code",
      "source": [
        "a=float(input(\"enter the weight(w)\"))\n",
        "b=float(input(\"enter the height(h)\"))\n",
        "bmi=a/(h*h)\n",
        "print(\"BMI: \",bmi)\n"
      ],
      "metadata": {
        "id": "XvGkYRv6ikEQ",
        "colab": {
          "base_uri": "https://localhost:8080/"
        },
        "outputId": "510e94eb-44a0-4445-caad-7e585b773697"
      },
      "execution_count": null,
      "outputs": [
        {
          "output_type": "stream",
          "name": "stdout",
          "text": [
            "enter the weight(w)60\n",
            "enter the height(h)1.65\n",
            "BMI:  22.03856749311295\n"
          ]
        }
      ]
    },
    {
      "cell_type": "markdown",
      "source": [
        "Question 7"
      ],
      "metadata": {
        "id": "VvMFYLc93Gh3"
      }
    },
    {
      "cell_type": "code",
      "source": [
        "a=float(input(\"enter the orginal price: \"))\n",
        "d=float(input(\"enter the discount: \"))\n",
        "n=a-(a*d/100)\n",
        "print(\"Discount price: \",n)\n",
        "#"
      ],
      "metadata": {
        "id": "N68N-yJ6WoMU",
        "colab": {
          "base_uri": "https://localhost:8080/"
        },
        "outputId": "75b224d6-ffa3-4637-f054-56c97b8cde09"
      },
      "execution_count": null,
      "outputs": [
        {
          "output_type": "stream",
          "name": "stdout",
          "text": [
            "enter the orginal price: 1200\n",
            "enter the discount: 10\n",
            "Discount price:  1080.0\n"
          ]
        }
      ]
    },
    {
      "cell_type": "markdown",
      "source": [
        "Question 8"
      ],
      "metadata": {
        "id": "MPK_TZNp4UZm"
      }
    },
    {
      "cell_type": "code",
      "source": [
        "a=float(input(\"enter side a: \"))\n",
        "b=float(input(\"enter side b: \"))\n",
        "c=float(input(\"enter side c: \"))\n",
        "s=(a+b+c)/2\n",
        "area=(s*(s-a)*(s-b)*(s-c))**0.5\n",
        "print(\"Area of triangle: \",area)\n",
        "#"
      ],
      "metadata": {
        "colab": {
          "base_uri": "https://localhost:8080/"
        },
        "id": "w6jEA-_J4H3V",
        "outputId": "4af879b5-d353-42fb-9808-453295e8176b"
      },
      "execution_count": null,
      "outputs": [
        {
          "output_type": "stream",
          "name": "stdout",
          "text": [
            "enter side a: 5\n",
            "enter side b: 6\n",
            "enter side c: 7\n",
            "Area of triangle:  14.696938456699069\n"
          ]
        }
      ]
    },
    {
      "cell_type": "markdown",
      "source": [
        "Question 9"
      ],
      "metadata": {
        "id": "5e4oLaJ949Yd"
      }
    },
    {
      "cell_type": "code",
      "source": [
        "a=float(input(\"enter wall length in metres:\"))\n",
        "b=float(input(\"enter wall height in metres:\"))\n",
        "t=(a*b)\n",
        "w=2*(1.5*1.20)\n",
        "p=t-w\n",
        "print(\"total area painted: \",p)\n",
        "c=p*25\n",
        "print(\"total painting cost: \",c)\n",
        "#"
      ],
      "metadata": {
        "colab": {
          "base_uri": "https://localhost:8080/"
        },
        "id": "eEybHSBn4z79",
        "outputId": "c94dfacd-ae2e-4814-f46c-cd19c890c36d"
      },
      "execution_count": null,
      "outputs": [
        {
          "output_type": "stream",
          "name": "stdout",
          "text": [
            "enter wall length in metres:12\n",
            "enter wall height in metres:8\n",
            "total area painted:  92.4\n",
            "total painting cost:  2310.0\n"
          ]
        }
      ]
    },
    {
      "cell_type": "markdown",
      "source": [
        "Question 10"
      ],
      "metadata": {
        "id": "9ntdznxP97VP"
      }
    },
    {
      "cell_type": "code",
      "source": [
        "a=float(input(\"enter the number units consumed: \"))\n",
        "b=(a*5.2)+100\n",
        "print(\"Electricity bill:\",b)\n",
        "#"
      ],
      "metadata": {
        "colab": {
          "base_uri": "https://localhost:8080/"
        },
        "id": "x9n3psIy6DR8",
        "outputId": "c1459afc-e5ba-488f-cfef-42c2f3b05ee2"
      },
      "execution_count": null,
      "outputs": [
        {
          "output_type": "stream",
          "name": "stdout",
          "text": [
            "enter the number units consumed: 250\n",
            "Electricity bill: 1400.0\n"
          ]
        }
      ]
    },
    {
      "cell_type": "code",
      "source": [],
      "metadata": {
        "id": "Fbjfr4cb-8OG"
      },
      "execution_count": null,
      "outputs": []
    }
  ]
}